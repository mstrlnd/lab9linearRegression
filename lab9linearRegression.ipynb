{
 "cells": [
  {
   "cell_type": "code",
   "execution_count": null,
   "id": "9a56dd66-bfdd-495e-b305-463e8e57b4f4",
   "metadata": {},
   "outputs": [],
   "source": [
    "#imports\n",
    "import pandas as pd\n",
    "import seaborn as sns\n",
    "import matplotlib.pylab as plt\n",
    "import numpy as np"
   ]
  },
  {
   "cell_type": "code",
   "execution_count": null,
   "id": "6c88f869-1bdb-46a5-9a76-28b61588e919",
   "metadata": {},
   "outputs": [],
   "source": [
    "#load data\n",
    "df = pd.read_csv('arm_span.csv')\n",
    "#number of rows of data and the number of variables - How many rows are there?  How many variables?\n",
    "df.shape"
   ]
  },
  {
   "cell_type": "code",
   "execution_count": null,
   "id": "f5a721aa-0e4d-4291-b401-c0ccac984953",
   "metadata": {},
   "outputs": [],
   "source": [
    "#preview the first 5 rows of data (some variables might get cut off)\n",
    "df.head()"
   ]
  },
  {
   "cell_type": "code",
   "execution_count": null,
   "id": "46ead6f3-aed7-472d-aad3-31fd472d7d06",
   "metadata": {},
   "outputs": [],
   "source": [
    "#Check the datatypes.  \"object\" is categorical.  \"int64\" and \"float64\" are numerical \n",
    "#Which variables are categorical?\n",
    "df.dtypes"
   ]
  },
  {
   "cell_type": "code",
   "execution_count": null,
   "id": "0d98863a-7d3b-4c8d-9ae3-b9799c9ae507",
   "metadata": {},
   "outputs": [],
   "source": [
    "#This step skipped because armspan and height data is complete\n",
    "#get rid of rows missing armspan and height (NaN) because causes errors for linear regression\n",
    "#df.dropna(subset=['armspan', 'height'], inplace=True)\n",
    "#df.head()"
   ]
  },
  {
   "cell_type": "code",
   "execution_count": null,
   "id": "0f86d5d3-bf21-4b75-a06c-654abd7da1a7",
   "metadata": {},
   "outputs": [],
   "source": [
    "sns.scatterplot(data=df, x='armspan', y='height')"
   ]
  },
  {
   "cell_type": "code",
   "execution_count": null,
   "id": "45fa625d-8c1b-43b6-a06e-ff93d9e9e719",
   "metadata": {},
   "outputs": [],
   "source": [
    "#Linear Regression (Line of Best Fit)\n",
    "#STEP 1: choose your variables for x and y ... \n",
    "x = df['armspan']\n",
    "y = df['height']\n",
    "# ...and find equation for line (x and y from above.  1 is line - think power of x)\n",
    "m, b = np.polyfit(x, y, 1)\n",
    "print('y = ' + str(m) + 'x + ' + str(b))"
   ]
  },
  {
   "cell_type": "code",
   "execution_count": null,
   "id": "5987aa3d-d2c5-42df-8a9a-e1c81a08342c",
   "metadata": {},
   "outputs": [],
   "source": [
    "#STEP 2: plot scatter plot in blue with Line of Best Fit in red\n",
    "\n",
    "plt.scatter(x, y, color='steelblue')\n",
    "\n",
    "plt.plot(x, m*x+b, color='red', linewidth=2)"
   ]
  },
  {
   "cell_type": "code",
   "execution_count": null,
   "id": "f523f96b-8659-432e-b01d-113d78263504",
   "metadata": {},
   "outputs": [],
   "source": [
    "#STEP 3: Calculate Correlation Coefficient (r)\n",
    "r = np.corrcoef(x, y)[0][1]\n",
    "r"
   ]
  },
  {
   "cell_type": "code",
   "execution_count": null,
   "id": "6c1923e7-9714-46b7-931c-3a8caa4d3b7e",
   "metadata": {},
   "outputs": [],
   "source": [
    "#Now try Steps 1-3 with movie data\n",
    "\n",
    "#load data\n",
    "#encoding parameter used because movie data has unusual encoding\n",
    "df = pd.read_csv('movie.csv', encoding = 'unicode_escape')\n",
    "#number of rows of data and the number of variables - How many rows are there?  How many variables?\n",
    "df.shape"
   ]
  },
  {
   "cell_type": "code",
   "execution_count": null,
   "id": "5b42625a-c161-4442-87cb-077b8e4af5bf",
   "metadata": {},
   "outputs": [],
   "source": [
    "#get rid of rows missing armspan and height (NaN) because causes errors for linear regression\n",
    "df.dropna(inplace=True)\n",
    "\n",
    "#preview the first 5 rows of data (some variables might get cut off)\n",
    "df.head()"
   ]
  },
  {
   "cell_type": "code",
   "execution_count": null,
   "id": "57c3430e-ce03-4358-a149-1d15d58514b2",
   "metadata": {},
   "outputs": [],
   "source": [
    "#Check the datatypes.  \"object\" is categorical.  \"int64\" and \"float64\" are numerical \n",
    "#Linear Regression is for numerical data\n",
    "df.dtypes"
   ]
  },
  {
   "cell_type": "code",
   "execution_count": null,
   "id": "b6ba75bd-640f-4492-842b-b9c684fc10f3",
   "metadata": {},
   "outputs": [],
   "source": []
  }
 ],
 "metadata": {
  "kernelspec": {
   "display_name": "Python 3 (ipykernel)",
   "language": "python",
   "name": "python3"
  },
  "language_info": {
   "codemirror_mode": {
    "name": "ipython",
    "version": 3
   },
   "file_extension": ".py",
   "mimetype": "text/x-python",
   "name": "python",
   "nbconvert_exporter": "python",
   "pygments_lexer": "ipython3",
   "version": "3.9.12"
  }
 },
 "nbformat": 4,
 "nbformat_minor": 5
}
